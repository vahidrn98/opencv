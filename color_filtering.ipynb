{
 "cells": [
  {
   "cell_type": "code",
   "execution_count": 1,
   "metadata": {},
   "outputs": [],
   "source": [
    "import cv2\n",
    "import numpy as np"
   ]
  },
  {
   "cell_type": "code",
   "execution_count": 21,
   "metadata": {},
   "outputs": [],
   "source": [
    "capture = cv2.VideoCapture(0)\n",
    "while True:\n",
    "    ret,frame = capture.read()\n",
    "    img_hsv = cv2.cvtColor(frame,cv2.COLOR_BGR2HSV)\n",
    "    lower = np.array([120,60,10])\n",
    "    upper = np.array([255,255,255])\n",
    "    mask = cv2.inRange(img_hsv,lower,upper)\n",
    "    res = cv2.bitwise_and(frame,frame,mask=mask)\n",
    "    #bluring and smoothing\n",
    "    kernel = np.ones((15,15),np.float32)/255 #/255 averaging all the pixels\n",
    "    smoothed = cv2.filter2D(res,-1,kernel)# -1 : depth of the destination image if <0 it will be like the depth of res\n",
    "    blur = cv2.GaussianBlur(res,(15,15),0)# (15,15):kernel size(should be positive and odd) 0:sigmax and sigmay\n",
    "    median = cv2.medianBlur(res,15) # 15: kernel size highly effective for salt and pepper noises\n",
    "    bilateral = cv2.bilateralFilter(res,15,75,75)# keeps the edges intensity \n",
    "    kernel = np.ones((7,7),np.uint8)\n",
    "    erosion = cv2.erode(mask,kernel,iterations=1)\n",
    "    dilate = cv2.dilate(mask,kernel,iterations=1)\n",
    "    opening = cv2.morphologyEx(res, cv2.MORPH_OPEN, kernel)\n",
    "    closing = cv2.morphologyEx(opening, cv2.MORPH_CLOSE, kernel)\n",
    "    cv2.imshow('Erosion',erosion)\n",
    "#     cv2.imshow('Dialation',dilate)\n",
    "    #15: diameter of filter area 75:size of area that colors should be mixed 75:d itself if d<0\n",
    "#     cv2.imshow('Opening',opening)\n",
    "    cv2.imshow('Closing',closing)\n",
    "#     cv2.imshow('bilateral',bilateral)\n",
    "    cv2.imshow('median blur',median)\n",
    "#     cv2.imshow('Gaussian Blurring',blur)\n",
    "#     cv2.imshow('frame',frame)\n",
    "#     cv2.imshow('average',smoothed)\n",
    "#    cv2.imshow('mask',mask)\n",
    "    cv2.imshow('res',res)\n",
    "    k = cv2.waitKey(5) & 0xFF\n",
    "    if k == 27:\n",
    "        break\n",
    "cv2.destroyAllWindows()\n",
    "capture.release()"
   ]
  },
  {
   "cell_type": "code",
   "execution_count": null,
   "metadata": {},
   "outputs": [],
   "source": []
  }
 ],
 "metadata": {
  "kernelspec": {
   "display_name": "Python 3",
   "language": "python",
   "name": "python3"
  },
  "language_info": {
   "codemirror_mode": {
    "name": "ipython",
    "version": 3
   },
   "file_extension": ".py",
   "mimetype": "text/x-python",
   "name": "python",
   "nbconvert_exporter": "python",
   "pygments_lexer": "ipython3",
   "version": "3.7.3"
  }
 },
 "nbformat": 4,
 "nbformat_minor": 2
}
