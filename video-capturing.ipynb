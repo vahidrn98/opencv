{
 "cells": [
  {
   "cell_type": "code",
   "execution_count": 3,
   "metadata": {},
   "outputs": [],
   "source": [
    "import cv2\n",
    "import numpy as np"
   ]
  },
  {
   "cell_type": "code",
   "execution_count": 6,
   "metadata": {},
   "outputs": [],
   "source": [
    "cap = cv2.VideoCapture(0) #useing the first webcam in the system (index zero)\n",
    "#cap = cv2.VideoCapture('output.avi') #loading a video instead of webcam\n",
    "#fourcc = cv2.VideoWriter_fourcc(*'XVID')\n",
    "#out_file = cv2.VIdeoWriter('output.avi',fourcc,20.0,(640,480)) "
   ]
  },
  {
   "cell_type": "code",
   "execution_count": null,
   "metadata": {},
   "outputs": [],
   "source": [
    "\n",
    "while True:\n",
    "    ret, frame = cap.read() #ret returns true or false just in case it does'nt work right!\n",
    "    gray = cv2.cvtColor(frame,cv2.COLOR_BGR2GRAY) #converting frame to greyscale mode\n",
    "    #out_file.write(frame)\n",
    "    cv2.imshow('frame',frame)\n",
    "    cv2.imshow('grey',gray)\n",
    "    if cv2.waitKey(1) & (ord('q') == 0xFF):#quit if pressed 'q'\n",
    "        break"
   ]
  },
  {
   "cell_type": "code",
   "execution_count": null,
   "metadata": {},
   "outputs": [],
   "source": [
    "cap.release()\n",
    "#out_file.release()\n",
    "cv2.destryAllWindows()"
   ]
  },
  {
   "cell_type": "code",
   "execution_count": null,
   "metadata": {},
   "outputs": [],
   "source": []
  }
 ],
 "metadata": {
  "kernelspec": {
   "display_name": "Python 3",
   "language": "python",
   "name": "python3"
  },
  "language_info": {
   "codemirror_mode": {
    "name": "ipython",
    "version": 3
   },
   "file_extension": ".py",
   "mimetype": "text/x-python",
   "name": "python",
   "nbconvert_exporter": "python",
   "pygments_lexer": "ipython3",
   "version": "3.7.3"
  }
 },
 "nbformat": 4,
 "nbformat_minor": 2
}
