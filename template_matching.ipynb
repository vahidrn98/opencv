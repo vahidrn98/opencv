{
 "cells": [
  {
   "cell_type": "code",
   "execution_count": 13,
   "metadata": {},
   "outputs": [],
   "source": [
    "import numpy as np\n",
    "import cv2"
   ]
  },
  {
   "cell_type": "code",
   "execution_count": 21,
   "metadata": {},
   "outputs": [],
   "source": [
    "img = cv2.imread('main.jpg')\n",
    "gray = cv2.cvtColor(img,cv2.COLOR_BGR2GRAY)\n",
    "template = cv2.imread('template.jpg')\n",
    "template = cv2.cvtColor(img,cv2.COLOR_BGR2GRAY)\n",
    "w,h = template.shape[::-1]\n",
    "res = cv2.matchTemplate(gray,template,cv2.TM_CCOEFF_NORMED)\n",
    "threshold = 0.9\n",
    "location = np.where(res>threshold)\n",
    "for point in zip(*location[::-1]):\n",
    "    cv2.rectangle(img,point,(point[0]+w,point[1]+h),(0,255,255),2)\n",
    "cv2.imshow('image',img)"
   ]
  },
  {
   "cell_type": "code",
   "execution_count": null,
   "metadata": {},
   "outputs": [],
   "source": []
  }
 ],
 "metadata": {
  "kernelspec": {
   "display_name": "Python 3",
   "language": "python",
   "name": "python3"
  },
  "language_info": {
   "codemirror_mode": {
    "name": "ipython",
    "version": 3
   },
   "file_extension": ".py",
   "mimetype": "text/x-python",
   "name": "python",
   "nbconvert_exporter": "python",
   "pygments_lexer": "ipython3",
   "version": "3.7.3"
  }
 },
 "nbformat": 4,
 "nbformat_minor": 2
}
